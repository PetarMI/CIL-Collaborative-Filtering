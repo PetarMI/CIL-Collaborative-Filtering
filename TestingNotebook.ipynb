{
 "cells": [
  {
   "cell_type": "code",
   "execution_count": 1,
   "metadata": {},
   "outputs": [],
   "source": [
    "import pandas as pd\n",
    "import numpy as np\n",
    "import data_handler as dh\n",
    "import svd_approach as svd_base\n",
    "import paths"
   ]
  },
  {
   "cell_type": "code",
   "execution_count": 10,
   "metadata": {},
   "outputs": [],
   "source": [
    "# TODO is it gonna be quicker if we multiply just training data in a for loop\n",
    "def make_predictions(P: np.ndarray, Q: np.ndarray) -> np.ndarray:\n",
    "    \"\"\" Make the prediction based on the approximation matrices\n",
    "\n",
    "    :param P: Approximation matrix\n",
    "    :param Q: Approximation matrix\n",
    "    :return predictions: The approximation matrix we get after dot product of truncated U and V\n",
    "    \"\"\"\n",
    "    prediction_matrix: np.ndarray = np.dot(P, Q)\n",
    "    return prediction_matrix\n",
    "\n",
    "\n",
    "# TODO annotate return type\n",
    "def init_baseline(df_data: pd.DataFrame):\n",
    "    \"\"\" Prepare the baseline for first iteration of SGD\n",
    "        Baseline is the approximation matrices inferred from the SVD approach\n",
    "\n",
    "    :return:\n",
    "    \"\"\"\n",
    "    A: np.ndarray = svd_base.fill_averages(df_data)\n",
    "    U, Vh = svd_base.perform_svd(A)\n",
    "\n",
    "    return U, Vh\n",
    "\n",
    "\n",
    "# TODO annotate return type\n",
    "def set_features(k: int, u: np.ndarray, vh: np.ndarray):\n",
    "    \"\"\" Choose how many features to use\n",
    "\n",
    "    :param k: Number of features\n",
    "    :param u: Approximation matrix\n",
    "    :param vh: Approximation matrix\n",
    "    :return: The two matrices\n",
    "    \"\"\"\n",
    "    u_prime = u[:, :k]\n",
    "    vh_prime = vh[:k, :]\n",
    "\n",
    "    return u_prime, vh_prime\n"
   ]
  },
  {
   "cell_type": "code",
   "execution_count": 11,
   "metadata": {},
   "outputs": [
    {
     "name": "stdout",
     "output_type": "stream",
     "text": [
      "Processing data\n",
      "Initializing state of approximation matrices\n"
     ]
    }
   ],
   "source": [
    "print(\"Processing data\")\n",
    "df_data: pd.DataFrame = dh.read_data(paths.total_dataset_location)\n",
    "data_dict: dict = dh.split_original_data(df_data, 0.1)\n",
    "\n",
    "df_train_data: pd.DataFrame = data_dict[\"train_data\"]\n",
    "df_test_data: pd.DataFrame = data_dict[\"test_data\"]\n",
    "\n",
    "print(\"Initializing state of approximation matrices\")\n",
    "# get the starting P and Q matrices\n",
    "k = 10\n",
    "u, vh = init_baseline(df_train_data)\n",
    "P, Q = set_features(k, u, vh)\n",
    "assert(P.shape == (paths.num_users, k))\n",
    "assert(Q.shape == (k, paths.num_movies))"
   ]
  },
  {
   "cell_type": "code",
   "execution_count": 12,
   "metadata": {},
   "outputs": [
    {
     "name": "stdout",
     "output_type": "stream",
     "text": [
      "Starting SGD algorithm\n",
      "Initial loss: 1.0066555447717795\n"
     ]
    }
   ],
   "source": [
    "print(\"Starting SGD algorithm\")\n",
    "initial_prediction = make_predictions(P, Q)\n",
    "rmse = svd_base.calc_rmse(df_test_data, initial_prediction)\n",
    "print(\"Initial loss: {0}\".format(rmse))\n",
    "\n"
   ]
  }
 ],
 "metadata": {
  "kernelspec": {
   "display_name": "Python 3",
   "language": "python",
   "name": "python3"
  },
  "language_info": {
   "codemirror_mode": {
    "name": "ipython",
    "version": 3
   },
   "file_extension": ".py",
   "mimetype": "text/x-python",
   "name": "python",
   "nbconvert_exporter": "python",
   "pygments_lexer": "ipython3",
   "version": "3.6.4"
  }
 },
 "nbformat": 4,
 "nbformat_minor": 2
}
