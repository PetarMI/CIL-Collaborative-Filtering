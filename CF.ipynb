{
 "cells": [
  {
   "cell_type": "code",
   "execution_count": 1,
   "metadata": {
    "collapsed": true
   },
   "outputs": [],
   "source": [
    "from Collabrative_Filtering import collabrative_filtering\n",
    "from helper import write_submission, csv_parse, submit_results\n",
    "import pandas as pd\n",
    "import numpy as np\n",
    "import matplotlib.pyplot as plt\n",
    "%matplotlib inline"
   ]
  },
  {
   "cell_type": "code",
   "execution_count": 2,
   "metadata": {},
   "outputs": [],
   "source": [
    "# ## Split the dataset to train data and test data\n",
    "# total_dataset = pd.read_csv('./data/data_train_post.csv')\n",
    "# num_col = (0.75 * total_dataset.groupby('col_id')['row_id'].count()).astype(int)\n",
    "\n",
    "# train_dataset = pd.DataFrame(columns=['Id', 'Prediction', 'row_id', 'col_id'])\n",
    "# test_dataset = pd.DataFrame(columns=['Id', 'Prediction', 'row_id', 'col_id'])\n",
    "# for i in range(1, 1001):\n",
    "#     current_rows = total_dataset.loc[total_dataset['col_id'] == i]\n",
    "#     train_dataset = train_dataset.append(current_rows.iloc[0:num_col.iloc[i-1]])\n",
    "#     train_dataset = train_dataset.append(current_rows.iloc[ -1 ])\n",
    "#     test_dataset = test_dataset.append(current_rows.iloc[num_col.iloc[i-1]: -1 ])\n",
    "#     if i % 100 ==0:\n",
    "#         print(i)\n",
    "\n",
    "        \n",
    "# print(train_dataset.groupby('col_id')['row_id'].count())\n",
    "\n",
    "# # nrows = total_dataset.shape[0]\n",
    "# # train_dataset = total_dataset.iloc[0:int(nrows*0.7)]\n",
    "# # train_dataset = train_dataset.append(total_dataset.iloc[-1])\n",
    "# # print(train_dataset.iloc[-1])\n",
    "# train_dataset.to_csv('./data/bootstrap_train.csv', index=False)\n",
    "\n",
    "# # test_dataset = total_dataset.loc[int(nrows*0.7):(nrows-1)]\n",
    "# test_dataset.to_csv('./data/bootstrap_test.csv', index=False)"
   ]
  },
  {
   "cell_type": "code",
   "execution_count": 26,
   "metadata": {
    "scrolled": true
   },
   "outputs": [
    {
     "name": "stdout",
     "output_type": "stream",
     "text": [
      "Initial Loss: 3.71946\n",
      "************************************************************\n",
      "Iteration: 100, Misfit: 3.63286, Sample: 1\n",
      "Average time per iteration: 0.2703\n",
      "************************************************************\n",
      "Iteration: 200, Misfit: 3.55468, Sample: 1\n",
      "Average time per iteration: 0.2691\n",
      "************************************************************\n",
      "Iteration: 300, Misfit: 3.48078, Sample: 1\n",
      "Average time per iteration: 0.2694\n",
      "************************************************************\n",
      "Iteration: 400, Misfit: 3.40730, Sample: 1\n",
      "Average time per iteration: 0.2695\n",
      "************************************************************\n",
      "Iteration: 500, Misfit: 3.33538, Sample: 1\n",
      "Average time per iteration: 0.2698\n",
      "************************************************************\n",
      "Iteration: 600, Misfit: 3.27128, Sample: 1\n",
      "Average time per iteration: 0.2792\n",
      "************************************************************\n",
      "Iteration: 700, Misfit: 3.20598, Sample: 1\n",
      "Average time per iteration: 0.2803\n",
      "************************************************************\n",
      "Iteration: 800, Misfit: 3.14661, Sample: 1\n",
      "Average time per iteration: 0.2805\n",
      "************************************************************\n",
      "Iteration: 900, Misfit: 3.08573, Sample: 1\n",
      "Average time per iteration: 0.2797\n",
      "************************************************************\n",
      "Iteration: 1000, Misfit: 3.02751, Sample: 1\n",
      "Average time per iteration: 0.2790\n",
      "************************************************************\n",
      "Iteration: 1100, Misfit: 2.97539, Sample: 1\n",
      "Average time per iteration: 0.2781\n",
      "************************************************************\n",
      "Iteration: 1200, Misfit: 2.92516, Sample: 1\n",
      "Average time per iteration: 0.2773\n",
      "************************************************************\n",
      "Iteration: 1300, Misfit: 2.87311, Sample: 1\n",
      "Average time per iteration: 0.2766\n",
      "************************************************************\n",
      "Iteration: 1400, Misfit: 2.82172, Sample: 1\n",
      "Average time per iteration: 0.2768\n",
      "************************************************************\n",
      "Iteration: 1500, Misfit: 2.77790, Sample: 1\n",
      "Average time per iteration: 0.2762\n",
      "************************************************************\n",
      "Iteration: 1600, Misfit: 2.73618, Sample: 1\n",
      "Average time per iteration: 0.2759\n",
      "************************************************************\n",
      "Iteration: 1700, Misfit: 2.69468, Sample: 1\n",
      "Average time per iteration: 0.2757\n",
      "************************************************************\n",
      "Iteration: 1800, Misfit: 2.65285, Sample: 1\n",
      "Average time per iteration: 0.2770\n",
      "************************************************************\n",
      "Iteration: 1900, Misfit: 2.61526, Sample: 1\n",
      "Average time per iteration: 0.2765\n",
      "************************************************************\n",
      "Iteration: 2000, Misfit: 2.57986, Sample: 1\n",
      "Average time per iteration: 0.2763\n",
      "************************************************************\n",
      "Iteration: 2100, Misfit: 2.54063, Sample: 1\n",
      "Average time per iteration: 0.2759\n",
      "************************************************************\n",
      "Iteration: 2200, Misfit: 2.50308, Sample: 1\n",
      "Average time per iteration: 0.2764\n",
      "************************************************************\n",
      "Iteration: 2300, Misfit: 2.46692, Sample: 1\n",
      "Average time per iteration: 0.2768\n",
      "************************************************************\n",
      "Iteration: 2400, Misfit: 2.43565, Sample: 1\n",
      "Average time per iteration: 0.2766\n",
      "************************************************************\n"
     ]
    }
   ],
   "source": [
    "alpha = 0.05\n",
    "beta = 0.02\n",
    "epsilon = 1e-3\n",
    "max_iter = 5000\n",
    "sample = 1\n",
    "\n",
    "training_dataset = pd.read_csv('./data/bootstrap_train.csv')\n",
    "cf = collabrative_filtering(training_dataset, k=50)\n",
    "\n",
    "final_pred, traces = cf.train(alpha, beta, max_iter, epsilon, sample)"
   ]
  },
  {
   "cell_type": "code",
   "execution_count": 27,
   "metadata": {},
   "outputs": [
    {
     "data": {
      "image/png": "[encoded data removed]",
      "text/plain": [
       "<matplotlib.figure.Figure at 0x10e33fbe0>"
      ]
     },
     "metadata": {},
     "output_type": "display_data"
    },
    {
     "name": "stdout",
     "output_type": "stream",
     "text": [
      "RMS= 2.73999\n"
     ]
    }
   ],
   "source": [
    "plt.plot(traces[:, 0], traces[:,1])\n",
    "plt.xlabel('iteration')\n",
    "plt.ylabel('RMS')\n",
    "plt.show()\n",
    "\n",
    "test_data = pd.read_csv('./data/bootstrap_test.csv')\n",
    "row_ids = test_data['row_id']\n",
    "col_ids = test_data['col_id']\n",
    "test_result = final_pred[row_ids-1, col_ids-1]\n",
    "err = test_data['Prediction'].values-test_result\n",
    "rms = np.sqrt(np.sum(np.power(err[0], 2))/test_result.shape[1])\n",
    "\n",
    "print('RMS= %.5f' % rms)"
   ]
  },
  {
   "cell_type": "code",
   "execution_count": null,
   "metadata": {
    "collapsed": true
   },
   "outputs": [],
   "source": [
    "# ## Submit the result \n",
    "write_submission(final_pred)"
   ]
  },
  {
   "cell_type": "code",
   "execution_count": null,
   "metadata": {
    "collapsed": true
   },
   "outputs": [],
   "source": []
  }
 ],
 "metadata": {
  "kernelspec": {
   "display_name": "Python 3",
   "language": "python",
   "name": "python3"
  },
  "language_info": {
   "codemirror_mode": {
    "name": "ipython",
    "version": 3
   },
   "file_extension": ".py",
   "mimetype": "text/x-python",
   "name": "python",
   "nbconvert_exporter": "python",
   "pygments_lexer": "ipython3",
   "version": "3.6.3"
  }
 },
 "nbformat": 4,
 "nbformat_minor": 2
}
