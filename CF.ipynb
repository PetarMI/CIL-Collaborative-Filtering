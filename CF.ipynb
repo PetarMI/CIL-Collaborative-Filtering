{
 "cells": [
  {
   "cell_type": "code",
   "execution_count": 1,
   "metadata": {},
   "outputs": [],
   "source": [
    "from Collabrative_Filtering import collabrative_filtering\n",
    "from helper import write_submission, csv_parse, submit_results\n",
    "import pandas as pd\n",
    "import numpy as np\n",
    "import matplotlib.pyplot as plt\n",
    "%matplotlib inline"
   ]
  },
  {
   "cell_type": "code",
   "execution_count": 2,
   "metadata": {},
   "outputs": [
    {
     "name": "stdout",
     "output_type": "stream",
     "text": [
      "Initial Loss: 0.84854\n",
      "************************************************************\n",
      "Iteration: 100, Misfit: 0.76452, Sample: 120\n",
      "Average time per iteration: 0.4529\n",
      "************************************************************\n",
      "Iteration: 200, Misfit: 0.75795, Sample: 120\n",
      "Average time per iteration: 0.5019\n",
      "************************************************************\n",
      "Iteration: 300, Misfit: 0.75194, Sample: 120\n",
      "Average time per iteration: 0.4715\n",
      "************************************************************\n",
      "Iteration: 400, Misfit: 0.74723, Sample: 120\n",
      "Average time per iteration: 0.4566\n",
      "************************************************************\n",
      "Iteration: 500, Misfit: 0.74432, Sample: 120\n",
      "Average time per iteration: 0.4628\n",
      "************************************************************\n",
      "Iteration: 600, Misfit: 0.74295, Sample: 120\n",
      "Average time per iteration: 0.4612\n",
      "************************************************************\n",
      "Iteration: 700, Misfit: 0.73904, Sample: 120\n",
      "Average time per iteration: 0.4702\n",
      "************************************************************\n",
      "Iteration: 800, Misfit: 0.73917, Sample: 120\n",
      "Average time per iteration: 0.4698\n",
      "************************************************************\n",
      "Iteration: 900, Misfit: 0.73830, Sample: 120\n",
      "Average time per iteration: 0.4627\n",
      "************************************************************\n",
      "Iteration: 1000, Misfit: 0.73570, Sample: 120\n",
      "Average time per iteration: 0.4559\n",
      "************************************************************\n"
     ]
    }
   ],
   "source": [
    "alpha = 0.05\n",
    "beta = 0.02\n",
    "epsilon = 1e-3\n",
    "max_iter = 5000\n",
    "sample = 120\n",
    "\n",
    "training_dataset = pd.read_csv('./data/data_train_post.csv')\n",
    "cf = collabrative_filtering(training_dataset, k=200)\n",
    "final_pred, traces = cf.train(alpha, beta, max_iter, epsilon, sample)"
   ]
  },
  {
   "cell_type": "code",
   "execution_count": 3,
   "metadata": {},
   "outputs": [
    {
     "data": {
      "image/png": "[encoded data removed]",
      "text/plain": [
       "<matplotlib.figure.Figure at 0x1167ecfd0>"
      ]
     },
     "metadata": {},
     "output_type": "display_data"
    },
    {
     "name": "stdout",
     "output_type": "stream",
     "text": [
      "Total number of entries in the submission file: 1176952\n"
     ]
    }
   ],
   "source": [
    "plt.plot(traces[:, 0], traces[:,1])\n",
    "plt.xlabel('iteration')\n",
    "plt.ylabel('RMS')\n",
    "plt.show()\n",
    "\n",
    "write_submission(final_pred)"
   ]
  },
  {
   "cell_type": "code",
   "execution_count": 4,
   "metadata": {},
   "outputs": [
    {
     "name": "stdout",
     "output_type": "stream",
     "text": [
      "Only 5 submission a day. Are you sure about this submission?(y/n)y\n",
      "Submission Succeed!\n"
     ]
    }
   ],
   "source": [
    "# ## Submit the result \n",
    "# submit_results()"
   ]
  },
  {
   "cell_type": "code",
   "execution_count": null,
   "metadata": {
    "collapsed": true
   },
   "outputs": [],
   "source": []
  }
 ],
 "metadata": {
  "kernelspec": {
   "display_name": "Python 3",
   "language": "python",
   "name": "python3"
  },
  "language_info": {
   "codemirror_mode": {
    "name": "ipython",
    "version": 3
   },
   "file_extension": ".py",
   "mimetype": "text/x-python",
   "name": "python",
   "nbconvert_exporter": "python",
   "pygments_lexer": "ipython3",
   "version": "3.6.3"
  }
 },
 "nbformat": 4,
 "nbformat_minor": 2
}
