{
 "cells": [
  {
   "cell_type": "code",
   "execution_count": 5,
   "metadata": {},
   "outputs": [],
   "source": [
    "from Collabrative_Filtering import collabrative_filtering\n",
    "from helper import write_submission, csv_parse, submit_results\n",
    "import pandas as pd\n",
    "import numpy as np\n",
    "import matplotlib.pyplot as plt\n",
    "%matplotlib inline"
   ]
  },
  {
   "cell_type": "code",
   "execution_count": 8,
   "metadata": {},
   "outputs": [
    {
     "name": "stdout",
     "output_type": "stream",
     "text": [
      "Initial Loss: 3.75590\n",
      "************************************************************\n",
      "Iteration: 100, Misfit: 1.47911, Sample: 120\n",
      "Average time per iteration: 0.2499\n",
      "************************************************************\n",
      "Iteration: 200, Misfit: 1.26065, Sample: 120\n",
      "Average time per iteration: 0.2599\n",
      "************************************************************\n",
      "Iteration: 300, Misfit: 1.17518, Sample: 120\n",
      "Average time per iteration: 0.2886\n",
      "************************************************************\n"
     ]
    }
   ],
   "source": [
    "alpha = 0.05\n",
    "beta = 0.02\n",
    "epsilon = 1e-3\n",
    "max_iter = 5000\n",
    "sample = 120\n",
    "\n",
    "training_dataset = pd.read_csv('./data/data_train_post.csv')\n",
    "cf = collabrative_filtering(training_dataset, k=5)\n",
    "\n",
    "final_pred, traces = cf.train(alpha, beta, max_iter, epsilon, sample)"
   ]
  },
  {
   "cell_type": "code",
   "execution_count": 9,
   "metadata": {},
   "outputs": [
    {
     "data": {
      "image/png": "[encoded data removed]",
      "text/plain": [
       "<Figure size 432x288 with 1 Axes>"
      ]
     },
     "metadata": {},
     "output_type": "display_data"
    },
    {
     "name": "stdout",
     "output_type": "stream",
     "text": [
      "Total number of entries in the submission file: 1176952\n"
     ]
    }
   ],
   "source": [
    "plt.plot(traces[:, 0], traces[:,1])\n",
    "plt.xlabel('iteration')\n",
    "plt.ylabel('RMS')\n",
    "plt.show()\n",
    "\n",
    "write_submission(final_pred)"
   ]
  },
  {
   "cell_type": "code",
   "execution_count": null,
   "metadata": {},
   "outputs": [],
   "source": [
    "# ## Submit the result \n",
    "submit_results()"
   ]
  },
  {
   "cell_type": "code",
   "execution_count": null,
   "metadata": {},
   "outputs": [],
   "source": []
  }
 ],
 "metadata": {
  "kernelspec": {
   "display_name": "Python 3",
   "language": "python",
   "name": "python3"
  },
  "language_info": {
   "codemirror_mode": {
    "name": "ipython",
    "version": 3
   },
   "file_extension": ".py",
   "mimetype": "text/x-python",
   "name": "python",
   "nbconvert_exporter": "python",
   "pygments_lexer": "ipython3",
   "version": "3.6.4"
  }
 },
 "nbformat": 4,
 "nbformat_minor": 2
}
