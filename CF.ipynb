{
 "cells": [
  {
   "cell_type": "code",
   "execution_count": 1,
   "metadata": {},
   "outputs": [],
   "source": [
    "from Collabrative_Filtering import collabrative_filtering\n",
    "from helper import write_submission, csv_parse, submit_results\n",
    "import pandas as pd\n",
    "import numpy as np\n",
    "import matplotlib.pyplot as plt\n",
    "%matplotlib inline"
   ]
  },
  {
   "cell_type": "code",
   "execution_count": null,
   "metadata": {},
   "outputs": [],
   "source": [
    "# ## Split the dataset to train data and test data\n",
    "# total_dataset = pd.read_csv('./data/data_train_post.csv')\n",
    "# num_col = (0.75 * total_dataset.groupby('col_id')['row_id'].count()).astype(int)\n",
    "\n",
    "# train_dataset = pd.DataFrame(columns=['Id', 'Prediction', 'row_id', 'col_id'])\n",
    "# test_dataset = pd.DataFrame(columns=['Id', 'Prediction', 'row_id', 'col_id'])\n",
    "# for i in range(1, 1001):\n",
    "#     current_rows = total_dataset.loc[total_dataset['col_id'] == i]\n",
    "#     train_dataset = train_dataset.append(current_rows.iloc[0:num_col.iloc[i-1]])\n",
    "#     train_dataset = train_dataset.append(current_rows.iloc[ -1 ])\n",
    "#     test_dataset = test_dataset.append(current_rows.iloc[num_col.iloc[i-1]: -1 ])\n",
    "#     if i % 100 ==0:\n",
    "#         print(i)\n",
    "\n",
    "        \n",
    "# print(train_dataset.groupby('col_id')['row_id'].count())\n",
    "\n",
    "# # nrows = total_dataset.shape[0]\n",
    "# # train_dataset = total_dataset.iloc[0:int(nrows*0.7)]\n",
    "# # train_dataset = train_dataset.append(total_dataset.iloc[-1])\n",
    "# # print(train_dataset.iloc[-1])\n",
    "# train_dataset.to_csv('./data/bootstrap_train.csv', index=False)\n",
    "\n",
    "# # test_dataset = total_dataset.loc[int(nrows*0.7):(nrows-1)]\n",
    "# test_dataset.to_csv('./data/bootstrap_test.csv', index=False)"
   ]
  },
  {
   "cell_type": "code",
   "execution_count": null,
   "metadata": {
    "scrolled": true
   },
   "outputs": [],
   "source": [
    "alpha = 0.05\n",
    "beta = 0.02\n",
    "epsilon = 1e-3\n",
    "max_iter = 5000\n",
    "sample = 1\n",
    "\n",
    "training_dataset = pd.read_csv('./data/bootstrap_train.csv')\n",
    "cf = collabrative_filtering(training_dataset, k=50)\n",
    "\n",
    "final_pred, traces = cf.train(alpha, beta, max_iter, epsilon, sample)"
   ]
  },
  {
   "cell_type": "code",
   "execution_count": null,
   "metadata": {},
   "outputs": [],
   "source": [
    "plt.plot(traces[:, 0], traces[:,1])\n",
    "plt.xlabel('iteration')\n",
    "plt.ylabel('RMS')\n",
    "plt.show()\n",
    "\n",
    "test_data = pd.read_csv('./data/bootstrap_test.csv')\n",
    "row_ids = test_data['row_id']\n",
    "col_ids = test_data['col_id']\n",
    "test_result = final_pred[row_ids-1, col_ids-1]\n",
    "err = test_data['Prediction'].values-test_result\n",
    "rms = np.sqrt(np.sum(np.power(err[0], 2))/test_result.shape[1])\n",
    "\n",
    "print('RMS= %.5f' % rms)"
   ]
  },
  {
   "cell_type": "code",
   "execution_count": null,
   "metadata": {},
   "outputs": [],
   "source": [
    "# ## Submit the result \n",
    "write_submission(final_pred)"
   ]
  },
  {
   "cell_type": "code",
   "execution_count": 2,
   "metadata": {},
   "outputs": [
    {
     "name": "stdout",
     "output_type": "stream",
     "text": [
      "Initial Loss: 0.97901\n",
      "************************************************************\n",
      "For alpha = 0.002, beta = 0.02, number of samples = 100, and k = 10, we get RMS = 1.031281882411006\n",
      "We get the best rms for alpha = 0.002, beta = 0.02, number of samples = 100, and k = 10: RMS = 1.031281882411006\n"
     ]
    }
   ],
   "source": [
    "\n",
    "alphas = np.array([0.002])\n",
    "betas = np.array([0.02])\n",
    "samples = np.array([100])\n",
    "ks = np.array([10])\n",
    "    \n",
    "mini = 3.14\n",
    "alphaM = 1\n",
    "betaM = 1\n",
    "sampleM = 1\n",
    "kM = 1\n",
    "    \n",
    "for alpha in alphas:\n",
    "    for beta in betas:\n",
    "        for sample in samples:\n",
    "            for k_ in ks:\n",
    "                    \n",
    "                epsilon = 1e-3\n",
    "                max_iter = 5000\n",
    "                    \n",
    "                training_dataset = pd.read_csv('./data/bootstrap_train.csv')\n",
    "                keywords = {\"k\": k_}\n",
    "                cf = collabrative_filtering(training_dataset, **keywords)\n",
    "\n",
    "                final_pred, traces = cf.train(alpha, beta, max_iter, epsilon, sample)\n",
    "\n",
    "                test_data = pd.read_csv('./data/bootstrap_test.csv')\n",
    "                row_ids = test_data['row_id']\n",
    "                col_ids = test_data['col_id']\n",
    "                test_result = final_pred[row_ids-1, col_ids-1]\n",
    "                err = test_data['Prediction'].values-test_result\n",
    "                rms = np.sqrt(np.sum(np.power(err[0], 2))/test_result.shape[1])\n",
    "\n",
    "                s = 'For alpha = ' + repr(alpha) + ', beta = ' + repr(beta) + ', number of samples = ' + repr(sample) + ', and k = ' + repr(k_) + ', we get RMS = ' + repr(rms)\n",
    "                print(s)\n",
    "                if mini > rms:\n",
    "                    mini = rms\n",
    "                    alphaM = alpha\n",
    "                    betaM = beta\n",
    "                    sampleM = sample\n",
    "                    kM = k_\n",
    "s = 'We get the best rms for alpha = ' + repr(alphaM) + ', beta = ' + repr(betaM) + ', number of samples = ' + repr(sampleM) + ', and k = ' + repr(kM) + ': RMS = ' + repr(mini)\n",
    "print(s)"
   ]
  }
 ],
 "metadata": {
  "kernelspec": {
   "display_name": "Python 3",
   "language": "python",
   "name": "python3"
  },
  "language_info": {
   "codemirror_mode": {
    "name": "ipython",
    "version": 3
   },
   "file_extension": ".py",
   "mimetype": "text/x-python",
   "name": "python",
   "nbconvert_exporter": "python",
   "pygments_lexer": "ipython3",
   "version": "3.6.4"
  }
 },
 "nbformat": 4,
 "nbformat_minor": 2
}
