{
 "cells": [
  {
   "cell_type": "code",
   "execution_count": 1,
   "metadata": {
    "collapsed": true
   },
   "outputs": [],
   "source": [
    "import pandas as pd\n",
    "import numpy as np\n",
    "from time import time\n",
    "from os.path import isfile\n",
    "\n",
    "# convert the DataFrame in .csv into matrix\n",
    "def csv_to_matrix(df_read, shape=[10000, 1000]):\n",
    "    A = np.zeros(shape)\n",
    "    \n",
    "    id_string = df_read['Id'].str.split('_')\n",
    "    row_ids = id_string.str[0].str.extract('([0-9]+)', expand=False).astype('int32')\n",
    "    col_ids = id_string.str[1].str.extract('([0-9]+)', expand=False).astype('int32')\n",
    "    \n",
    "    A[row_ids-1, col_ids-1] = df_read['Prediction']\n",
    "    return A\n",
    "\n",
    "# Write the results from matrix to .csv and matches with the samplesubmission\n",
    "def matrix_to_csv(df_read, A):\n",
    "    id_string = df_read['Id'].str.split('_')\n",
    "    row_ids = id_string.str[0].str.extract('([0-9]+)', expand=False).astype('int32')\n",
    "    col_ids = id_string.str[1].str.extract('([0-9]+)', expand=False).astype('int32')\n",
    "    \n",
    "    df_read['Prediction'] = A[row_ids-1, col_ids-1]\n",
    "    \n",
    "    return df_read\n"
   ]
  },
  {
   "cell_type": "code",
   "execution_count": 2,
   "metadata": {
    "collapsed": true
   },
   "outputs": [],
   "source": [
    "# Define the size of the training data\n",
    "user_N = 100000\n",
    "item_N = 1000\n",
    "\n",
    "\n",
    "# Load the training data from matrix (if exist) or .csv\n",
    "\n",
    "train_data_matrix_file = './train_data_matrix.npy'\n",
    "\n",
    "if isfile('./train_data_matrix.npy'):\n",
    "    A = np.load(train_data_matrix_file)\n",
    "else:\n",
    "    df_train = pd.read_csv('./cil-collab-filtering-2018/data_train.csv')\n",
    "    \n",
    "    # Rearrange the data in .csv into a sparse matrix\n",
    "    A = csv_to_matrix(df_train, [user_N, item_N])\n",
    "    np.save('./train_data_matrix.npy', A)"
   ]
  },
  {
   "cell_type": "code",
   "execution_count": 3,
   "metadata": {
    "collapsed": true
   },
   "outputs": [],
   "source": [
    "# Compute average for nonzero colomn elemens and fill into A\n",
    "for j in range(A.shape[1]):\n",
    "    ave = A[np.nonzero(A[:, j]), j].mean()\n",
    "    A[np.where(A[:,j]==0),j] = ave"
   ]
  },
  {
   "cell_type": "code",
   "execution_count": 4,
   "metadata": {},
   "outputs": [
    {
     "name": "stdout",
     "output_type": "stream",
     "text": [
      "Total entries in the submission file: 1176952\n",
      "Submission writing time: 8.463201 s\n"
     ]
    }
   ],
   "source": [
    "tic = time()\n",
    "df_submit = pd.read_csv('./cil-collab-filtering-2018/sampleSubmission.csv')\n",
    "submit_csv = matrix_to_csv(df_submit, A)\n",
    "submit_csv.to_csv('./cil-collab-filtering-2018/submission.csv', index=False)\n",
    "toc = time()\n",
    "print('Total number of entries in the submission file: %d' % np.shape(submit_csv)[0])\n",
    "print('Submission writing time: %f s' % (toc-tic))"
   ]
  },
  {
   "cell_type": "code",
   "execution_count": null,
   "metadata": {
    "collapsed": true
   },
   "outputs": [],
   "source": []
  }
 ],
 "metadata": {
  "kernelspec": {
   "display_name": "Python 3",
   "language": "python",
   "name": "python3"
  },
  "language_info": {
   "codemirror_mode": {
    "name": "ipython",
    "version": 3
   },
   "file_extension": ".py",
   "mimetype": "text/x-python",
   "name": "python",
   "nbconvert_exporter": "python",
   "pygments_lexer": "ipython3",
   "version": "3.6.3"
  }
 },
 "nbformat": 4,
 "nbformat_minor": 2
}
